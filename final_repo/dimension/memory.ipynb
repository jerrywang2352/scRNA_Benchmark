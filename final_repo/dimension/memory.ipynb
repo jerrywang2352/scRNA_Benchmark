{
 "cells": [
  {
   "cell_type": "code",
   "execution_count": 1,
   "metadata": {},
   "outputs": [
    {
     "name": "stdout",
     "output_type": "stream",
     "text": [
      "WARNING:tensorflow:From d:\\CS Software\\anaconda3\\lib\\site-packages\\keras\\src\\losses.py:2976: The name tf.losses.sparse_softmax_cross_entropy is deprecated. Please use tf.compat.v1.losses.sparse_softmax_cross_entropy instead.\n",
      "\n",
      "WARNING:tensorflow:From d:\\CS Software\\anaconda3\\lib\\site-packages\\tensorflow_probability\\python\\internal\\backend\\numpy\\_utils.py:48: The name tf.logging.TaskLevelStatusMessage is deprecated. Please use tf.compat.v1.logging.TaskLevelStatusMessage instead.\n",
      "\n",
      "WARNING:tensorflow:From d:\\CS Software\\anaconda3\\lib\\site-packages\\tensorflow_probability\\python\\internal\\backend\\numpy\\_utils.py:48: The name tf.control_flow_v2_enabled is deprecated. Please use tf.compat.v1.control_flow_v2_enabled instead.\n",
      "\n"
     ]
    }
   ],
   "source": [
    "import pandas as pd\n",
    "import numpy as np\n",
    "import matplotlib.pyplot as plt\n",
    "import tensorflow as tf\n",
    "from tensorflow import keras \n",
    "from sklearn.decomposition import PCA\n",
    "from sklearn.manifold import TSNE\n",
    "from sklearn.preprocessing import StandardScaler\n",
    "from sklearn.decomposition import FastICA\n",
    "import umap\n",
    "\n",
    "def pca(data):\n",
    "    '''PCA'''\n",
    "    # Separate gene ID and gene name columns\n",
    "    gene_info = data[['gene_id', 'gene_name', 'gene_type']]\n",
    "    # Select only the expression data columns for PCA\n",
    "    expression_data = data.drop(['gene_id', 'gene_name', 'gene_type'], axis=1)\n",
    "\n",
    "    # Standardize the data\n",
    "    scaler = StandardScaler()\n",
    "    scaled_data = scaler.fit_transform(expression_data)\n",
    "\n",
    "    # Apply PCA\n",
    "    pca = PCA(n_components=2)  # You can change the number of components as needed\n",
    "    principal_components = pca.fit_transform(scaled_data)\n",
    "\n",
    "def tsne(data):\n",
    "    selected_columns = data.iloc[:, 3:]  \n",
    "\n",
    "    tsne = TSNE(n_components=2, perplexity=30)  # Adjust parameters as needed\n",
    "\n",
    "    # Perform t-SNE\n",
    "    tsne_result = tsne.fit_transform(selected_columns)\n",
    "\n",
    "def Umap(data):\n",
    "    selected_columns = data.iloc[:, 3:]  \n",
    "    umap_reducer = umap.UMAP(n_components=2)  \n",
    "\n",
    "    umap_result = umap_reducer.fit_transform(selected_columns)\n",
    "\n",
    "def ica(data):\n",
    "    gene_expression = data.iloc[:, 3:]  \n",
    "    ica = FastICA(n_components=2, random_state=42)\n",
    "\n",
    "\n",
    "    ica.fit(gene_expression)\n",
    "\n",
    "    independent_components = ica.transform(gene_expression)\n",
    "\n",
    "def vae(data):\n",
    "    expression_data = data.iloc[:, 3:].values\n",
    "\n",
    "\n",
    "    expression_data = (expression_data - np.min(expression_data)) / (np.max(expression_data) - np.min(expression_data))\n",
    "\n",
    "    latent_dim = 2 \n",
    "\n",
    "    encoder_inputs = keras.Input(shape=(expression_data.shape[1],))\n",
    "    x = keras.layers.Dense(256, activation='relu')(encoder_inputs)\n",
    "    x = keras.layers.Dense(128, activation='relu')(x)\n",
    "    z_mean = keras.layers.Dense(latent_dim, name='z_mean')(x)\n",
    "    z_log_var = keras.layers.Dense(latent_dim, name='z_log_var')(x)\n",
    "\n",
    "    def sampling(args):\n",
    "        z_mean, z_log_var = args\n",
    "        epsilon = tf.keras.backend.random_normal(shape=(tf.shape(z_mean)[0], latent_dim), mean=0., stddev=1.)\n",
    "        return z_mean + tf.exp(0.5 * z_log_var) * epsilon\n",
    "\n",
    "    z = keras.layers.Lambda(sampling, output_shape=(latent_dim,))([z_mean, z_log_var])\n",
    "\n",
    "    decoder_inputs = keras.layers.Dense(128, activation='relu')(z)\n",
    "    decoder_outputs = keras.layers.Dense(expression_data.shape[1], activation='sigmoid')(decoder_inputs)\n",
    "\n",
    "    vae = keras.Model(encoder_inputs, decoder_outputs)\n",
    "\n",
    "    reconstruction_loss = tf.keras.losses.mean_squared_error(encoder_inputs, decoder_outputs)\n",
    "    reconstruction_loss *= expression_data.shape[1]\n",
    "    kl_loss = 1 + z_log_var - tf.square(z_mean) - tf.exp(z_log_var)\n",
    "    kl_loss = tf.reduce_mean(kl_loss)\n",
    "    kl_loss *= -0.5\n",
    "    vae_loss = tf.reduce_mean(reconstruction_loss + kl_loss)\n",
    "    vae.add_loss(vae_loss)\n",
    "    vae.compile(optimizer='adam')\n",
    "\n",
    "    vae.fit(expression_data, epochs=50, batch_size=32)\n",
    "\n",
    "    encoder = keras.Model(encoder_inputs, z_mean)\n",
    "    encoded_data = encoder.predict(expression_data)\n"
   ]
  },
  {
   "cell_type": "code",
   "execution_count": 3,
   "metadata": {},
   "outputs": [
    {
     "data": {
      "image/png": "[encoded data removed]",
      "text/plain": [
       "<Figure size 432x288 with 1 Axes>"
      ]
     },
     "metadata": {
      "needs_background": "light"
     },
     "output_type": "display_data"
    }
   ],
   "source": [
    "from memory_profiler import memory_usage\n",
    "import matplotlib.pyplot as plt\n",
    "\n",
    "# Your algorithm/function\n",
    "def your_algorithm():\n",
    "    # Code for your algorithm goes here\n",
    "    pass\n",
    "\n",
    "# Measure memory usage\n",
    "mem_usage = memory_usage((pca(data), (), {}))\n",
    "\n",
    "# Plotting memory usage\n",
    "plt.plot(mem_usage)\n",
    "plt.xlabel('Time')\n",
    "plt.ylabel('Memory consumption in MB')\n",
    "plt.title('Memory Usage Over Time')\n",
    "plt.show()\n"
   ]
  }
 ],
 "metadata": {
  "kernelspec": {
   "display_name": "base",
   "language": "python",
   "name": "python3"
  },
  "language_info": {
   "codemirror_mode": {
    "name": "ipython",
    "version": 3
   },
   "file_extension": ".py",
   "mimetype": "text/x-python",
   "name": "python",
   "nbconvert_exporter": "python",
   "pygments_lexer": "ipython3",
   "version": "3.9.12"
  }
 },
 "nbformat": 4,
 "nbformat_minor": 2
}
